{
 "cells": [
  {
   "cell_type": "code",
   "execution_count": 3,
   "metadata": {},
   "outputs": [],
   "source": [
    "from xml.etree import ElementTree as Xet\n",
    "import csv\n",
    "import os\n",
    "import pandas as pd\n"
   ]
  },
  {
   "cell_type": "code",
   "execution_count": 9,
   "metadata": {},
   "outputs": [
    {
     "name": "stdout",
     "output_type": "stream",
     "text": [
      "<Element '{http://www.kadaster.nl/schemas/lvbag/extract-selecties/v20200601}Gebied-Registratief' at 0x131b13470>\n"
     ]
    },
    {
     "ename": "KeyboardInterrupt",
     "evalue": "",
     "output_type": "error",
     "traceback": [
      "\u001b[0;31m---------------------------------------------------------------------------\u001b[0m",
      "\u001b[0;31mKeyboardInterrupt\u001b[0m                         Traceback (most recent call last)",
      "Cell \u001b[0;32mIn [9], line 14\u001b[0m\n\u001b[1;32m     12\u001b[0m     position \u001b[39m=\u001b[39m r\u001b[39m.\u001b[39mfind(\u001b[39m\"\u001b[39m\u001b[39mbagObject/Verblijfsobject/geometrie/punt/Point/pos/__text\u001b[39m\u001b[39m\"\u001b[39m)\n\u001b[1;32m     13\u001b[0m     geldigheid \u001b[39m=\u001b[39m r\u001b[39m.\u001b[39mfind(\u001b[39m\"\u001b[39m\u001b[39mbagObject/Verblijfsobject/voorkomen/Voorkomen/eindGeldigheid/__text\u001b[39m\u001b[39m\"\u001b[39m)\n\u001b[0;32m---> 14\u001b[0m     nummers_aanduiding \u001b[39m=\u001b[39m r\u001b[39m.\u001b[39mfind(\u001b[39m\"\u001b[39m\u001b[39mbagObject/Verblijfsobject/heeftAlsHoofdadres/NummeraanduidingRef/__text\u001b[39m\u001b[39m\"\u001b[39m)\n\u001b[1;32m     16\u001b[0m     rows\u001b[39m.\u001b[39mappend({\u001b[39m\"\u001b[39m\u001b[39midentificatie\u001b[39m\u001b[39m\"\u001b[39m: identificatie,\n\u001b[1;32m     17\u001b[0m                 \u001b[39m\"\u001b[39m\u001b[39mnummers_aanduiding\u001b[39m\u001b[39m\"\u001b[39m:nummers_aanduiding,\n\u001b[1;32m     18\u001b[0m                 \u001b[39m\"\u001b[39m\u001b[39mposition\u001b[39m\u001b[39m\"\u001b[39m:position,\n\u001b[1;32m     19\u001b[0m                 \u001b[39m\"\u001b[39m\u001b[39mgeldigheid\u001b[39m\u001b[39m\"\u001b[39m:geldigheid\n\u001b[1;32m     20\u001b[0m                 \n\u001b[1;32m     21\u001b[0m     })\n\u001b[1;32m     22\u001b[0m df \u001b[39m=\u001b[39m pd\u001b[39m.\u001b[39mDataFrame(rows, columns\u001b[39m=\u001b[39mcols)\n",
      "Cell \u001b[0;32mIn [9], line 14\u001b[0m\n\u001b[1;32m     12\u001b[0m     position \u001b[39m=\u001b[39m r\u001b[39m.\u001b[39mfind(\u001b[39m\"\u001b[39m\u001b[39mbagObject/Verblijfsobject/geometrie/punt/Point/pos/__text\u001b[39m\u001b[39m\"\u001b[39m)\n\u001b[1;32m     13\u001b[0m     geldigheid \u001b[39m=\u001b[39m r\u001b[39m.\u001b[39mfind(\u001b[39m\"\u001b[39m\u001b[39mbagObject/Verblijfsobject/voorkomen/Voorkomen/eindGeldigheid/__text\u001b[39m\u001b[39m\"\u001b[39m)\n\u001b[0;32m---> 14\u001b[0m     nummers_aanduiding \u001b[39m=\u001b[39m r\u001b[39m.\u001b[39mfind(\u001b[39m\"\u001b[39m\u001b[39mbagObject/Verblijfsobject/heeftAlsHoofdadres/NummeraanduidingRef/__text\u001b[39m\u001b[39m\"\u001b[39m)\n\u001b[1;32m     16\u001b[0m     rows\u001b[39m.\u001b[39mappend({\u001b[39m\"\u001b[39m\u001b[39midentificatie\u001b[39m\u001b[39m\"\u001b[39m: identificatie,\n\u001b[1;32m     17\u001b[0m                 \u001b[39m\"\u001b[39m\u001b[39mnummers_aanduiding\u001b[39m\u001b[39m\"\u001b[39m:nummers_aanduiding,\n\u001b[1;32m     18\u001b[0m                 \u001b[39m\"\u001b[39m\u001b[39mposition\u001b[39m\u001b[39m\"\u001b[39m:position,\n\u001b[1;32m     19\u001b[0m                 \u001b[39m\"\u001b[39m\u001b[39mgeldigheid\u001b[39m\u001b[39m\"\u001b[39m:geldigheid\n\u001b[1;32m     20\u001b[0m                 \n\u001b[1;32m     21\u001b[0m     })\n\u001b[1;32m     22\u001b[0m df \u001b[39m=\u001b[39m pd\u001b[39m.\u001b[39mDataFrame(rows, columns\u001b[39m=\u001b[39mcols)\n",
      "File \u001b[0;32m_pydevd_bundle/pydevd_cython.pyx:1443\u001b[0m, in \u001b[0;36m_pydevd_bundle.pydevd_cython.SafeCallWrapper.__call__\u001b[0;34m()\u001b[0m\n",
      "File \u001b[0;32m_pydevd_bundle/pydevd_cython.pyx:700\u001b[0m, in \u001b[0;36m_pydevd_bundle.pydevd_cython.PyDBFrame.trace_dispatch\u001b[0;34m()\u001b[0m\n",
      "File \u001b[0;32m_pydevd_bundle/pydevd_cython.pyx:1368\u001b[0m, in \u001b[0;36m_pydevd_bundle.pydevd_cython.PyDBFrame.trace_dispatch\u001b[0;34m()\u001b[0m\n",
      "File \u001b[0;32m_pydevd_bundle/pydevd_cython.pyx:1330\u001b[0m, in \u001b[0;36m_pydevd_bundle.pydevd_cython.PyDBFrame.trace_dispatch\u001b[0;34m()\u001b[0m\n",
      "File \u001b[0;32m_pydevd_bundle/pydevd_cython.pyx:311\u001b[0m, in \u001b[0;36m_pydevd_bundle.pydevd_cython.PyDBFrame.do_wait_suspend\u001b[0;34m()\u001b[0m\n",
      "File \u001b[0;32m~/Library/Python/3.10/lib/python/site-packages/debugpy/_vendored/pydevd/pydevd.py:2062\u001b[0m, in \u001b[0;36mPyDB.do_wait_suspend\u001b[0;34m(self, thread, frame, event, arg, exception_type)\u001b[0m\n\u001b[1;32m   2059\u001b[0m             from_this_thread\u001b[39m.\u001b[39mappend(frame_custom_thread_id)\n\u001b[1;32m   2061\u001b[0m     \u001b[39mwith\u001b[39;00m \u001b[39mself\u001b[39m\u001b[39m.\u001b[39m_threads_suspended_single_notification\u001b[39m.\u001b[39mnotify_thread_suspended(thread_id, stop_reason):\n\u001b[0;32m-> 2062\u001b[0m         keep_suspended \u001b[39m=\u001b[39m \u001b[39mself\u001b[39;49m\u001b[39m.\u001b[39;49m_do_wait_suspend(thread, frame, event, arg, suspend_type, from_this_thread, frames_tracker)\n\u001b[1;32m   2064\u001b[0m frames_list \u001b[39m=\u001b[39m \u001b[39mNone\u001b[39;00m\n\u001b[1;32m   2066\u001b[0m \u001b[39mif\u001b[39;00m keep_suspended:\n\u001b[1;32m   2067\u001b[0m     \u001b[39m# This means that we should pause again after a set next statement.\u001b[39;00m\n",
      "File \u001b[0;32m~/Library/Python/3.10/lib/python/site-packages/debugpy/_vendored/pydevd/pydevd.py:2098\u001b[0m, in \u001b[0;36mPyDB._do_wait_suspend\u001b[0;34m(self, thread, frame, event, arg, suspend_type, from_this_thread, frames_tracker)\u001b[0m\n\u001b[1;32m   2095\u001b[0m         \u001b[39mself\u001b[39m\u001b[39m.\u001b[39m_call_input_hook()\n\u001b[1;32m   2097\u001b[0m     \u001b[39mself\u001b[39m\u001b[39m.\u001b[39mprocess_internal_commands()\n\u001b[0;32m-> 2098\u001b[0m     time\u001b[39m.\u001b[39;49msleep(\u001b[39m0.01\u001b[39;49m)\n\u001b[1;32m   2100\u001b[0m \u001b[39mself\u001b[39m\u001b[39m.\u001b[39mcancel_async_evaluation(get_current_thread_id(thread), \u001b[39mstr\u001b[39m(\u001b[39mid\u001b[39m(frame)))\n\u001b[1;32m   2102\u001b[0m \u001b[39m# process any stepping instructions\u001b[39;00m\n",
      "\u001b[0;31mKeyboardInterrupt\u001b[0m: "
     ]
    }
   ],
   "source": [
    "dir_path = os.path.abspath('')\n",
    "rows = []\n",
    "cols = [\"identificatie\", \"nummers_aanduiding\", \"position\", \"geldigheid\"]\n",
    "for i in range(1,2169):\n",
    "    xml = \"data/9999VBO08012023/9999VBO08012023-{:06d}.xml\".format(i)\n",
    "    xmlparse = Xet.parse(f'{dir_path}/{xml}')\n",
    "    root = xmlparse.getroot()\n",
    "    output = 'verblijfsplaatsen{}.csv'.format(i)\n",
    "    for r in root[0]:\n",
    "        print(r)\n",
    "        identificatie = r.find(\"bagObject/Verblijfsobject/identificatie/__text\")\n",
    "        position = r.find(\"bagObject/Verblijfsobject/geometrie/punt/Point/pos/__text\")\n",
    "        geldigheid = r.find(\"bagObject/Verblijfsobject/voorkomen/Voorkomen/eindGeldigheid/__text\")\n",
    "        nummers_aanduiding = r.find(\"bagObject/Verblijfsobject/heeftAlsHoofdadres/NummeraanduidingRef/__text\")\n",
    "        \n",
    "        rows.append({\"identificatie\": identificatie,\n",
    "                    \"nummers_aanduiding\":nummers_aanduiding,\n",
    "                    \"position\":position,\n",
    "                    \"geldigheid\":geldigheid\n",
    "                    \n",
    "        })\n",
    "    df = pd.DataFrame(rows, columns=cols)\n",
    "    df.to_csv(f'{dir_path}/data/csv/{output}')\n",
    "        \n"
   ]
  }
 ],
 "metadata": {
  "kernelspec": {
   "display_name": "Python 3",
   "language": "python",
   "name": "python3"
  },
  "language_info": {
   "codemirror_mode": {
    "name": "ipython",
    "version": 3
   },
   "file_extension": ".py",
   "mimetype": "text/x-python",
   "name": "python",
   "nbconvert_exporter": "python",
   "pygments_lexer": "ipython3",
   "version": "3.10.8 (v3.10.8:aaaf517424, Oct 11 2022, 10:14:40) [Clang 13.0.0 (clang-1300.0.29.30)]"
  },
  "orig_nbformat": 4,
  "vscode": {
   "interpreter": {
    "hash": "aee8b7b246df8f9039afb4144a1f6fd8d2ca17a180786b69acc140d282b71a49"
   }
  }
 },
 "nbformat": 4,
 "nbformat_minor": 2
}
