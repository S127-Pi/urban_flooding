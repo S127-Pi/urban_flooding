{
 "cells": [
  {
   "cell_type": "code",
   "execution_count": 61,
   "metadata": {},
   "outputs": [],
   "source": [
    "import pandas as pd\n",
    "import os"
   ]
  },
  {
   "cell_type": "code",
   "execution_count": 62,
   "metadata": {},
   "outputs": [
    {
     "data": {
      "text/plain": [
       "Index(['bagObject/Verblijfsobject/heeftAlsHoofdadres/NummeraanduidingRef/__text',\n",
       "       'bagObject/Verblijfsobject/identificatie/__text',\n",
       "       'bagObject/Verblijfsobject/geometrie/punt/Point/pos/__text',\n",
       "       'bagObject/Verblijfsobject/voorkomen/Voorkomen/eindGeldigheid/__text'],\n",
       "      dtype='object')"
      ]
     },
     "execution_count": 62,
     "metadata": {},
     "output_type": "execute_result"
    }
   ],
   "source": [
    "final_df = pd.DataFrame()\n",
    "path = os.path.abspath('')\n",
    "cols = ['bagObject/Verblijfsobject/voorkomen/Voorkomen/eindGeldigheid/__text',\n",
    "'bagObject/Verblijfsobject/geometrie/punt/Point/pos/__text',\n",
    "'bagObject/Verblijfsobject/heeftAlsHoofdadres/NummeraanduidingRef/__text',\n",
    "'bagObject/Verblijfsobject/identificatie/__text']\n",
    "df = pd.read_csv(f'{path}/verblijfplaatsen.csv', usecols=cols)\n",
    "\n",
    "df.columns"
   ]
  },
  {
   "cell_type": "code",
   "execution_count": 63,
   "metadata": {},
   "outputs": [
    {
     "name": "stdout",
     "output_type": "stream",
     "text": [
      "bagObject/Verblijfsobject/heeftAlsHoofdadres/NummeraanduidingRef/__text             int64\n",
      "bagObject/Verblijfsobject/identificatie/__text                                      int64\n",
      "bagObject/Verblijfsobject/geometrie/punt/Point/pos/__text                          object\n",
      "bagObject/Verblijfsobject/voorkomen/Voorkomen/eindGeldigheid/__text        datetime64[ns]\n",
      "dtype: object\n"
     ]
    }
   ],
   "source": [
    "df['bagObject/Verblijfsobject/voorkomen/Voorkomen/eindGeldigheid/__text'] = pd.to_datetime(df['bagObject/Verblijfsobject/voorkomen/Voorkomen/eindGeldigheid/__text'])\n",
    "#df['bagObject/Verblijfsobject/voorkomen/Voorkomen/eindGeldigheid/__text']\n",
    "print(df.dtypes)"
   ]
  },
  {
   "cell_type": "code",
   "execution_count": 64,
   "metadata": {},
   "outputs": [],
   "source": [
    "# we dont want the duplicates\n",
    "# df = df[pd.isna(df['bagObject/Verblijfsobject/voorkomen/Voorkomen/eindGeldigheid/__text'])]\n",
    "df = df.drop_duplicates(subset='bagObject/Verblijfsobject/identificatie/__text', keep='last')\n",
    "\n"
   ]
  },
  {
   "cell_type": "code",
   "execution_count": 65,
   "metadata": {},
   "outputs": [
    {
     "data": {
      "text/plain": [
       "0           258248.0 573696.0 0.0\n",
       "2           258250.0 573703.0 0.0\n",
       "4           258256.0 573715.0 0.0\n",
       "6           258256.0 573724.0 0.0\n",
       "8           258255.0 573730.0 0.0\n",
       "                  ...            \n",
       "4886    195783.622 353657.113 0.0\n",
       "4888    198049.808 356330.331 0.0\n",
       "4890    198048.701 356313.161 0.0\n",
       "4892    200290.765 360276.139 0.0\n",
       "4894    196354.013 355718.594 0.0\n",
       "Name: bagObject/Verblijfsobject/geometrie/punt/Point/pos/__text, Length: 2248, dtype: object"
      ]
     },
     "execution_count": 65,
     "metadata": {},
     "output_type": "execute_result"
    }
   ],
   "source": [
    "df['bagObject/Verblijfsobject/geometrie/punt/Point/pos/__text']"
   ]
  },
  {
   "cell_type": "code",
   "execution_count": 75,
   "metadata": {},
   "outputs": [],
   "source": [
    "i = 0\n",
    "\n",
    "df0 = df\n",
    "\n",
    "df0['bagObject/Verblijfsobject/geometrie/punt/Point/pos/__text'].dropna()\n",
    "# print(df['bagObject/Verblijfsobject/geometrie/punt/Point/pos/__text'].str.split(' '))\n",
    "df['x'] = df['bagObject/Verblijfsobject/geometrie/punt/Point/pos/__text'].str.split(' ').str[0]\n",
    "df['y'] = df['bagObject/Verblijfsobject/geometrie/punt/Point/pos/__text'].str.split(' ').str[1]\n",
    "df0.to_csv('verblijfsplaatsen2xy.csv')"
   ]
  },
  {
   "cell_type": "code",
   "execution_count": 46,
   "metadata": {},
   "outputs": [],
   "source": [
    "final_df = pd.concat([final_df, df], ignore_index=True)\n",
    "\n",
    "df.to_csv('verblijfsplaatsen2.csv')"
   ]
  }
 ],
 "metadata": {
  "kernelspec": {
   "display_name": "base",
   "language": "python",
   "name": "python3"
  },
  "language_info": {
   "codemirror_mode": {
    "name": "ipython",
    "version": 3
   },
   "file_extension": ".py",
   "mimetype": "text/x-python",
   "name": "python",
   "nbconvert_exporter": "python",
   "pygments_lexer": "ipython3",
   "version": "3.7.3 (default, Mar 27 2019, 22:11:17) \n[GCC 7.3.0]"
  },
  "orig_nbformat": 4,
  "vscode": {
   "interpreter": {
    "hash": "e480e77498a19e83019b2d7269e20288a9a462cfc930d9f08d15453fddc24eb4"
   }
  }
 },
 "nbformat": 4,
 "nbformat_minor": 2
}
